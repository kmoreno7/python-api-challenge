{
 "cells": [
  {
   "cell_type": "markdown",
   "metadata": {},
   "source": [
    "# WeatherPy\n",
    "----\n",
    "\n",
    "#### Note\n",
    "* Instructions have been included for each segment. You do not have to follow them exactly, but they are included to help you think through the steps."
   ]
  },
  {
   "cell_type": "code",
   "execution_count": 1,
   "metadata": {
    "scrolled": true
   },
   "outputs": [],
   "source": [
    "# Dependencies and Setup\n",
    "import matplotlib.pyplot as plt\n",
    "import pandas as pd\n",
    "import numpy as np\n",
    "import requests\n",
    "import time\n",
    "from scipy.stats import linregress\n",
    "import json\n",
    "\n",
    "# Import API key\n",
    "from api_keys import weather_api_key\n",
    "\n",
    "# Incorporated citipy to determine city based on latitude and longitude\n",
    "from citipy import citipy\n",
    "\n",
    "# Output File (CSV)\n",
    "output_data_file = \"output_data/cities.csv\"\n",
    "\n",
    "# Range of latitudes and longitudes\n",
    "lat_range = (-90, 90)\n",
    "lng_range = (-180, 180)"
   ]
  },
  {
   "cell_type": "markdown",
   "metadata": {},
   "source": [
    "## Generate Cities List"
   ]
  },
  {
   "cell_type": "code",
   "execution_count": 2,
   "metadata": {},
   "outputs": [
    {
     "data": {
      "text/plain": [
       "616"
      ]
     },
     "execution_count": 2,
     "metadata": {},
     "output_type": "execute_result"
    }
   ],
   "source": [
    "# List for holding lat_lngs and cities\n",
    "lat_lngs = []\n",
    "cities = []\n",
    "\n",
    "# Create a set of random lat and lng combinations\n",
    "lats = np.random.uniform(lat_range[0], lat_range[1], size=1500)\n",
    "lngs = np.random.uniform(lng_range[0], lng_range[1], size=1500)\n",
    "lat_lngs = zip(lats, lngs)\n",
    "\n",
    "# Identify nearest city for each lat, lng combination\n",
    "for lat_lng in lat_lngs:\n",
    "    city = citipy.nearest_city(lat_lng[0], lat_lng[1]).city_name\n",
    "    \n",
    "    # If the city is unique, then add it to a our cities list\n",
    "    if city not in cities:\n",
    "        cities.append(city)\n",
    "\n",
    "# Print the city count to confirm sufficient count\n",
    "len(cities)"
   ]
  },
  {
   "cell_type": "markdown",
   "metadata": {},
   "source": [
    "### Perform API Calls\n",
    "* Perform a weather check on each city using a series of successive API calls.\n",
    "* Include a print log of each city as it'sbeing processed (with the city number and city name).\n"
   ]
  },
  {
   "cell_type": "code",
   "execution_count": 3,
   "metadata": {
    "scrolled": true
   },
   "outputs": [
    {
     "name": "stdout",
     "output_type": "stream",
     "text": [
      "{\n",
      "    \"coord\": {\n",
      "        \"lon\": 150.7967,\n",
      "        \"lat\": -2.5744\n",
      "    },\n",
      "    \"weather\": [\n",
      "        {\n",
      "            \"id\": 802,\n",
      "            \"main\": \"Clouds\",\n",
      "            \"description\": \"scattered clouds\",\n",
      "            \"icon\": \"03d\"\n",
      "        }\n",
      "    ],\n",
      "    \"base\": \"stations\",\n",
      "    \"main\": {\n",
      "        \"temp\": 84.94,\n",
      "        \"feels_like\": 89.13,\n",
      "        \"temp_min\": 84.94,\n",
      "        \"temp_max\": 84.94,\n",
      "        \"pressure\": 1007,\n",
      "        \"humidity\": 60,\n",
      "        \"sea_level\": 1007,\n",
      "        \"grnd_level\": 1005\n",
      "    },\n",
      "    \"visibility\": 10000,\n",
      "    \"wind\": {\n",
      "        \"speed\": 5.37,\n",
      "        \"deg\": 96,\n",
      "        \"gust\": 6.89\n",
      "    },\n",
      "    \"clouds\": {\n",
      "        \"all\": 40\n",
      "    },\n",
      "    \"dt\": 1665456158,\n",
      "    \"sys\": {\n",
      "        \"country\": \"PG\",\n",
      "        \"sunrise\": 1665430738,\n",
      "        \"sunset\": 1665474488\n",
      "    },\n",
      "    \"timezone\": 36000,\n",
      "    \"id\": 2094342,\n",
      "    \"name\": \"Kavieng\",\n",
      "    \"cod\": 200\n",
      "}\n"
     ]
    }
   ],
   "source": [
    "url = \"http://api.openweathermap.org/data/2.5/weather?\"\n",
    "units = \"imperial\"\n",
    "query_url = f\"{url}appid={weather_api_key}&units={units}&q=\"\n",
    "\n",
    "weather_response = requests.get(query_url + city)\n",
    "weather_json = weather_response.json()\n",
    "print(json.dumps(weather_json, indent=4))"
   ]
  },
  {
   "cell_type": "code",
   "execution_count": 4,
   "metadata": {},
   "outputs": [
    {
     "name": "stdout",
     "output_type": "stream",
     "text": [
      "vaini found.\n",
      "ribeira grande found.\n",
      "Error illoqqortoormiut not found.\n",
      "mataura found.\n",
      "port alfred found.\n",
      "san cristobal found.\n",
      "marquard found.\n",
      "dawson creek found.\n",
      "saint-pierre found.\n",
      "ushuaia found.\n",
      "pevek found.\n",
      "punta arenas found.\n",
      "cape town found.\n",
      "chokurdakh found.\n",
      "kannur found.\n",
      "faanui found.\n",
      "antalaha found.\n",
      "dingle found.\n",
      "vila franca do campo found.\n",
      "rikitea found.\n",
      "nanortalik found.\n",
      "hermanus found.\n",
      "torbay found.\n",
      "esso found.\n",
      "klyuchi found.\n",
      "qaanaaq found.\n",
      "Error amderma not found.\n",
      "puerto ayora found.\n",
      "kjollefjord found.\n",
      "albany found.\n",
      "Error nizhneyansk not found.\n",
      "roald found.\n",
      "chuy found.\n",
      "Error karamay not found.\n",
      "mahebourg found.\n",
      "iquique found.\n",
      "saldanha found.\n",
      "ancud found.\n",
      "nikolskoye found.\n",
      "maceio found.\n",
      "ponta do sol found.\n",
      "victoria found.\n",
      "ixtapa found.\n",
      "mount isa found.\n",
      "balkhash found.\n",
      "sola found.\n",
      "busselton found.\n",
      "vao found.\n",
      "lalin found.\n",
      "harper found.\n",
      "bathsheba found.\n",
      "leh found.\n",
      "garden city found.\n",
      "rockland found.\n",
      "khatanga found.\n",
      "kodiak found.\n",
      "nishihara found.\n",
      "hilo found.\n",
      "hokitika found.\n",
      "doba found.\n",
      "tavda found.\n",
      "thompson found.\n",
      "sur found.\n",
      "itarema found.\n",
      "batagay found.\n",
      "hobart found.\n",
      "mercedes found.\n",
      "barrow found.\n",
      "pemangkat found.\n",
      "namibe found.\n",
      "jamestown found.\n",
      "Error ardistan not found.\n",
      "kiruna found.\n",
      "kinshasa found.\n",
      "bengkulu found.\n",
      "nouakchott found.\n",
      "Error tawkar not found.\n",
      "mount gambier found.\n",
      "Error taolanaro not found.\n",
      "Error haibowan not found.\n",
      "Error marcona not found.\n",
      "Error mys shmidta not found.\n",
      "wattegama found.\n",
      "airai found.\n",
      "coahuayana found.\n",
      "Error chikoy not found.\n",
      "cherskiy found.\n",
      "port augusta found.\n",
      "taoudenni found.\n",
      "atar found.\n",
      "Error fort saint john not found.\n",
      "vestmannaeyjar found.\n",
      "vila found.\n",
      "jasper found.\n",
      "hithadhoo found.\n",
      "Error burica not found.\n",
      "atuona found.\n",
      "talnakh found.\n",
      "nicoya found.\n",
      "ahipara found.\n",
      "saskylakh found.\n",
      "centralia found.\n",
      "Error belushya guba not found.\n",
      "baneh found.\n",
      "matane found.\n",
      "campbell river found.\n",
      "hasaki found.\n",
      "flinders found.\n",
      "georgetown found.\n",
      "aswan found.\n",
      "Error barentsburg not found.\n",
      "tuktoyaktuk found.\n",
      "kaitangata found.\n",
      "osakarovka found.\n",
      "road town found.\n",
      "Error tsihombe not found.\n",
      "upernavik found.\n",
      "yellowknife found.\n",
      "poltavka found.\n",
      "hofn found.\n",
      "saint george found.\n",
      "carnarvon found.\n",
      "gravdal found.\n",
      "deputatskiy found.\n",
      "guerrero negro found.\n",
      "ninove found.\n",
      "bitung found.\n",
      "avarua found.\n",
      "mbengwi found.\n",
      "bambous virieux found.\n",
      "Error meyungs not found.\n",
      "vazhiny found.\n",
      "north bend found.\n",
      "keflavik found.\n",
      "pontes e lacerda found.\n",
      "sitio novo do tocantins found.\n",
      "moose factory found.\n",
      "auki found.\n",
      "terrace bay found.\n",
      "butaritari found.\n",
      "vila velha found.\n",
      "the valley found.\n",
      "Error bolungarvik not found.\n",
      "kudahuvadhoo found.\n",
      "Error vaitupu not found.\n",
      "mar del plata found.\n",
      "bluff found.\n",
      "labuan found.\n",
      "katsuura found.\n",
      "batagay-alyta found.\n",
      "kavaratti found.\n",
      "portland found.\n",
      "kimbe found.\n",
      "kulachi found.\n",
      "bako found.\n",
      "clyde river found.\n",
      "quelimane found.\n",
      "horta found.\n",
      "yar-sale found.\n",
      "daugavpils found.\n",
      "bambanglipuro found.\n",
      "vaitape found.\n",
      "alekseyevka found.\n",
      "esperance found.\n",
      "padang found.\n",
      "udachnyy found.\n",
      "srandakan found.\n",
      "tasiilaq found.\n",
      "Error attawapiskat not found.\n",
      "marmaris found.\n",
      "bredasdorp found.\n",
      "port elizabeth found.\n",
      "bushehr found.\n",
      "cootamundra found.\n",
      "new norfolk found.\n",
      "kruisfontein found.\n",
      "sinnamary found.\n",
      "raudeberg found.\n",
      "sitka found.\n",
      "narsaq found.\n",
      "coquimbo found.\n",
      "entre rios found.\n",
      "touros found.\n",
      "darhan found.\n",
      "cimislia found.\n",
      "karacabey found.\n",
      "fare found.\n",
      "tawang found.\n",
      "urengoy found.\n",
      "quthing found.\n",
      "anjozorobe found.\n",
      "longyearbyen found.\n",
      "Error ijaki not found.\n",
      "castro found.\n",
      "tiksi found.\n",
      "norman wells found.\n",
      "lebu found.\n",
      "ilulissat found.\n",
      "souillac found.\n",
      "provideniya found.\n",
      "Error tumannyy not found.\n",
      "salihorsk found.\n",
      "san miguel de sema found.\n",
      "sao pedro do sul found.\n",
      "Error ambodifototra not found.\n",
      "broome found.\n",
      "Error khonuu not found.\n",
      "gornyy found.\n",
      "kaeo found.\n",
      "Error ngukurr not found.\n",
      "yaan found.\n",
      "anloga found.\n",
      "kaufungen found.\n",
      "portel found.\n",
      "halifax found.\n",
      "kuytun found.\n",
      "arraial do cabo found.\n",
      "klaksvik found.\n",
      "biharamulo found.\n",
      "fortuna found.\n",
      "la rioja found.\n",
      "pisco found.\n",
      "naze found.\n",
      "lai found.\n",
      "plettenberg bay found.\n",
      "palmer found.\n",
      "Error lolua not found.\n",
      "Error samusu not found.\n",
      "mildura found.\n",
      "lernanist found.\n",
      "Error nylstroom not found.\n",
      "salinas found.\n",
      "iqaluit found.\n",
      "orsha found.\n",
      "montlucon found.\n",
      "pemba found.\n",
      "dunedin found.\n",
      "novikovo found.\n",
      "marzuq found.\n",
      "soyo found.\n",
      "beloha found.\n",
      "corner brook found.\n",
      "torbat-e jam found.\n",
      "zhigansk found.\n",
      "caravelas found.\n",
      "beringovskiy found.\n",
      "general roca found.\n",
      "alugan found.\n",
      "lavrentiya found.\n",
      "east london found.\n",
      "muros found.\n",
      "ortakoy found.\n",
      "cabinda found.\n",
      "watsa found.\n",
      "killybegs found.\n",
      "ankang found.\n",
      "cupira found.\n",
      "sakakah found.\n",
      "buin found.\n",
      "kavieng found.\n",
      "tonantins found.\n",
      "murray bridge found.\n",
      "dhidhdhoo found.\n",
      "anantapur found.\n",
      "sabak found.\n",
      "aklavik found.\n",
      "nemuro found.\n",
      "lewisporte found.\n",
      "cabo san lucas found.\n",
      "kemijarvi found.\n",
      "te anau found.\n",
      "kodinsk found.\n",
      "bilibino found.\n",
      "nalut found.\n",
      "fairbanks found.\n",
      "mailsi found.\n",
      "Error kuche not found.\n",
      "brasy found.\n",
      "Error palabuhanratu not found.\n",
      "hambantota found.\n",
      "cidreira found.\n",
      "kununurra found.\n",
      "westport found.\n",
      "polovinnoye found.\n",
      "ukiah found.\n",
      "ossora found.\n",
      "mecca found.\n",
      "verkhnetulomskiy found.\n",
      "wajima found.\n",
      "vardo found.\n",
      "imeni poliny osipenko found.\n",
      "sabha found.\n",
      "camacha found.\n",
      "pacific grove found.\n",
      "torrijos found.\n",
      "peruibe found.\n",
      "jumla found.\n",
      "mega found.\n",
      "barbacena found.\n",
      "prainha found.\n",
      "nyurba found.\n",
      "asau found.\n",
      "astara found.\n",
      "lorengau found.\n",
      "Error skalistyy not found.\n",
      "hobyo found.\n",
      "amarante do maranhao found.\n",
      "tigil found.\n",
      "wewak found.\n",
      "gizo found.\n",
      "resistencia found.\n",
      "juxtlahuaca found.\n",
      "luderitz found.\n",
      "pitimbu found.\n",
      "avera found.\n",
      "la esperanza found.\n",
      "caconda found.\n",
      "anadyr found.\n",
      "balabac found.\n",
      "glubokiy found.\n",
      "san patricio found.\n",
      "grand gaube found.\n",
      "san quintin found.\n",
      "sistranda found.\n",
      "ziezmariai found.\n",
      "bowen found.\n",
      "mnogovershinnyy found.\n",
      "Error tabulbah not found.\n",
      "valdemarpils found.\n",
      "tilichiki found.\n",
      "tabou found.\n",
      "hamilton found.\n",
      "hualmay found.\n",
      "manapparai found.\n",
      "dikson found.\n",
      "usinsk found.\n",
      "sao joao da barra found.\n",
      "acara found.\n",
      "guarapari found.\n",
      "nantucket found.\n",
      "Error sinjah not found.\n",
      "san policarpo found.\n",
      "sechura found.\n",
      "peniche found.\n",
      "Error nguiu not found.\n",
      "le vauclin found.\n",
      "samarai found.\n",
      "tuatapere found.\n",
      "oistins found.\n",
      "Error sentyabrskiy not found.\n",
      "buala found.\n",
      "Error kazalinsk not found.\n",
      "verkhoyansk found.\n",
      "alghero found.\n",
      "sidi ali found.\n",
      "kapaa found.\n",
      "la romana found.\n",
      "voh found.\n",
      "kenora found.\n",
      "geraldton found.\n",
      "consolacion del sur found.\n",
      "kulykivka found.\n",
      "puerto del rosario found.\n",
      "dryden found.\n",
      "balkanabat found.\n",
      "shimoda found.\n",
      "guymon found.\n",
      "ketchikan found.\n",
      "velikiy ustyug found.\n",
      "lompoc found.\n",
      "mus found.\n",
      "sungaipenuh found.\n",
      "kirakira found.\n",
      "petropavlovsk-kamchatskiy found.\n",
      "komsomolskiy found.\n",
      "vetlanda found.\n",
      "saint-joseph found.\n",
      "qaqortoq found.\n",
      "hailar found.\n",
      "la ronge found.\n",
      "qujing found.\n",
      "margate found.\n",
      "matagami found.\n",
      "rochegda found.\n",
      "escarcega found.\n",
      "palencia found.\n",
      "lima found.\n",
      "savannah bight found.\n",
      "manacapuru found.\n",
      "taltal found.\n",
      "ventaquemada found.\n",
      "beidao found.\n",
      "wanaka found.\n",
      "rawson found.\n",
      "puerto baquerizo moreno found.\n",
      "saint-philippe found.\n",
      "ginir found.\n",
      "fort nelson found.\n",
      "hunterville found.\n",
      "sham churasi found.\n",
      "severo-kurilsk found.\n",
      "zaysan found.\n",
      "dayong found.\n",
      "karakol found.\n",
      "daru found.\n",
      "Error sandhaven not found.\n",
      "xai-xai found.\n",
      "ormara found.\n",
      "abnub found.\n",
      "nome found.\n",
      "port shepstone found.\n",
      "gazanjyk found.\n",
      "san juan del sur found.\n",
      "uthal found.\n",
      "price found.\n",
      "paysandu found.\n",
      "Error umzimvubu not found.\n",
      "mindelheim found.\n",
      "laguna found.\n",
      "kabare found.\n",
      "abu kamal found.\n",
      "hami found.\n",
      "turbat found.\n",
      "saint-francois found.\n",
      "Error mahadday weyne not found.\n",
      "goderich found.\n",
      "puerto leguizamo found.\n",
      "lagoa found.\n",
      "idenao found.\n",
      "sawtell found.\n",
      "umuahia found.\n",
      "husavik found.\n",
      "Error tlyarota not found.\n",
      "faya found.\n",
      "demba found.\n",
      "turayf found.\n",
      "lata found.\n",
      "virginia beach found.\n",
      "fort walton beach found.\n",
      "dillon found.\n",
      "isla mujeres found.\n",
      "Error maghama not found.\n",
      "keti bandar found.\n",
      "Error grand river south east not found.\n",
      "dongli found.\n",
      "mapastepec found.\n",
      "sukumo found.\n",
      "adrar found.\n",
      "Error dzhusaly not found.\n",
      "havoysund found.\n",
      "xiantao found.\n",
      "charlottetown found.\n",
      "benguela found.\n",
      "sao filipe found.\n",
      "rio gallegos found.\n",
      "xuddur found.\n",
      "acahay found.\n",
      "forest grove found.\n",
      "grindavik found.\n",
      "lasa found.\n",
      "conceicao do araguaia found.\n",
      "neryungri found.\n",
      "Error rungata not found.\n",
      "tura found.\n",
      "shingu found.\n",
      "maamba found.\n",
      "constitucion found.\n",
      "luanda found.\n",
      "kichha found.\n",
      "tepic found.\n",
      "nabire found.\n",
      "muisne found.\n",
      "ahuimanu found.\n"
     ]
    },
    {
     "name": "stdout",
     "output_type": "stream",
     "text": [
      "puerto el triunfo found.\n",
      "vostok found.\n",
      "safaga found.\n",
      "egvekinot found.\n",
      "bethel found.\n",
      "paramonga found.\n",
      "consett found.\n",
      "rocha found.\n",
      "kawalu found.\n",
      "ardakan found.\n",
      "guadalupe y calvo found.\n",
      "panorama found.\n",
      "valley found.\n",
      "tateyama found.\n",
      "Error one hundred mile house not found.\n",
      "Error urdzhar not found.\n",
      "Error paradwip not found.\n",
      "gandajika found.\n",
      "lazaro cardenas found.\n",
      "mehamn found.\n",
      "homer found.\n",
      "Error cheuskiny not found.\n",
      "outjo found.\n",
      "alofi found.\n",
      "Error mentok not found.\n",
      "samagaltay found.\n",
      "Error kazbegi not found.\n",
      "manakara found.\n",
      "lyuban found.\n",
      "moussoro found.\n",
      "esil found.\n",
      "labuhan found.\n",
      "yulara found.\n",
      "yook found.\n",
      "barcelos found.\n",
      "discovery bay found.\n",
      "xapuri found.\n",
      "tual found.\n",
      "haines junction found.\n",
      "mirabad found.\n",
      "quatre cocos found.\n",
      "shubarshi found.\n",
      "gat found.\n",
      "aberdeen found.\n",
      "amnat charoen found.\n",
      "jaca found.\n",
      "sabla found.\n",
      "presidencia roque saenz pena found.\n",
      "baykit found.\n",
      "hoima found.\n",
      "pimentel found.\n",
      "nouadhibou found.\n",
      "Error kamenskoye not found.\n",
      "aniva found.\n",
      "tiznit found.\n",
      "maun found.\n",
      "Error rawannawi not found.\n",
      "yumen found.\n",
      "umm lajj found.\n",
      "puerto escondido found.\n",
      "Error ha not found.\n",
      "san jose de guanipa found.\n",
      "nchelenge found.\n",
      "port lincoln found.\n",
      "santa maria found.\n",
      "puerto madero found.\n",
      "vila do maio found.\n",
      "washougal found.\n",
      "mabaruma found.\n",
      "coihaique found.\n",
      "domoni found.\n",
      "dongdu found.\n",
      "kibala found.\n",
      "araxa found.\n",
      "ayan found.\n",
      "walvis bay found.\n",
      "kribi found.\n",
      "tiarei found.\n",
      "berezovka found.\n",
      "Error tasbuget not found.\n",
      "paamiut found.\n",
      "marystown found.\n",
      "Error galgani not found.\n",
      "isangel found.\n",
      "elin pelin found.\n",
      "tome found.\n",
      "port blair found.\n",
      "arlit found.\n",
      "wyndham found.\n",
      "Error ozgon not found.\n",
      "golden found.\n",
      "vilcun found.\n",
      "yuanping found.\n",
      "lugovoy found.\n",
      "oyotun found.\n",
      "Error wulanhaote not found.\n",
      "mopipi found.\n",
      "belyy yar found.\n",
      "dasoguz found.\n",
      "paita found.\n",
      "macara found.\n",
      "ust-maya found.\n",
      "cockburn town found.\n",
      "Error targsorul-vechi not found.\n",
      "upington found.\n",
      "viedma found.\n",
      "newport found.\n",
      "turukhansk found.\n",
      "roma found.\n",
      "leningradskiy found.\n",
      "kotovo found.\n",
      "maningrida found.\n",
      "chiredzi found.\n",
      "hay river found.\n",
      "porto nacional found.\n",
      "loandjili found.\n",
      "Error yellamanchili not found.\n",
      "Error halalo not found.\n",
      "krasnoselkup found.\n",
      "san mateo del mar found.\n",
      "Error bacuit not found.\n",
      "pangnirtung found.\n",
      "saquarema found.\n",
      "neiafu found.\n",
      "alice springs found.\n",
      "manta found.\n",
      "praia found.\n",
      "sivagiri found.\n",
      "severodvinsk found.\n",
      "agadez found.\n",
      "denpasar found.\n",
      "broken hill found.\n",
      "araouane found.\n",
      "diamantino found.\n",
      "salalah found.\n",
      "carballo found.\n",
      "korla found.\n",
      "the pas found.\n",
      "lae found.\n",
      "bentiu found.\n",
      "Error hihifo not found.\n",
      "kismayo found.\n",
      "badiraguato found.\n"
     ]
    }
   ],
   "source": [
    "#Empty list\n",
    "city_name=[]  \n",
    "cloud=[]        \n",
    "country=[]      \n",
    "date=[]         \n",
    "humidity=[]     \n",
    "latitude=[]    \n",
    "longitude=[]   \n",
    "maxtemp=[]      \n",
    "wind_speed=[]         \n",
    "\n",
    "#Empty list with data\n",
    "for city in cities:\n",
    "        \n",
    "        response=requests.get(query_url + city).json()\n",
    "        \n",
    "        try:                                                \n",
    "            city_name.append(response['name'])\n",
    "            cloud.append(response['clouds']['all'])\n",
    "            country.append(response['sys']['country'])\n",
    "            date.append(response['dt'])\n",
    "            humidity.append(response['main']['humidity'])             \n",
    "            latitude.append(response['coord']['lat'])\n",
    "            longitude.append(response['coord']['lon'])             \n",
    "            maxtemp.append(response['main']['temp'])\n",
    "            wind_speed.append(response['wind']['speed']) \n",
    "            \n",
    "            print(f\"{city} found.\") \n",
    "        \n",
    "        except KeyError:\n",
    "            print(f\"Error {city} not found.\") \n",
    "            \n",
    "        continue\n",
    "                                                                "
   ]
  },
  {
   "cell_type": "markdown",
   "metadata": {},
   "source": [
    "### Convert Raw Data to DataFrame\n",
    "* Export the city data into a .csv.\n",
    "* Display the DataFrame"
   ]
  },
  {
   "cell_type": "code",
   "execution_count": 5,
   "metadata": {},
   "outputs": [
    {
     "data": {
      "text/plain": [
       "<bound method NDFrame.head of 0      78.96\n",
       "1      68.77\n",
       "2      52.03\n",
       "3      73.18\n",
       "4      71.78\n",
       "       ...  \n",
       "549    60.82\n",
       "550    90.27\n",
       "551    68.68\n",
       "552    76.73\n",
       "553    76.71\n",
       "Name: Max Temperature, Length: 554, dtype: float64>"
      ]
     },
     "execution_count": 5,
     "metadata": {},
     "output_type": "execute_result"
    }
   ],
   "source": [
    "weather = {\n",
    "    \"City\": city_name,\n",
    "    \"Country\": country,\n",
    "    \"Date\": date,\n",
    "    \"Latitude\": latitude,\n",
    "    \"Longitude\": longitude,\n",
    "    \"Max Temperature\": maxtemp,\n",
    "    \"Humidity\": humidity,\n",
    "    \"Cloudiness\": cloud,\n",
    "    \"Wind Speed\": wind_speed\n",
    "}\n",
    "\n",
    "weather_df = pd.DataFrame(weather)\n",
    "weather_df[\"Max Temperature\"].head\n"
   ]
  },
  {
   "cell_type": "code",
   "execution_count": 6,
   "metadata": {},
   "outputs": [],
   "source": [
    "weather_df.to_csv(\"/Users/kevinmoreno/Documents/Northwestern/classrepo/NU-VIRT-DATA-PT-08-2022-U-LOLC/02-Homework/06-Python-APIs/Instructions/starter_code/weather_df.csv\")\n"
   ]
  },
  {
   "cell_type": "markdown",
   "metadata": {},
   "source": [
    "## Inspect the data and remove the cities where the humidity > 100%.\n",
    "----\n",
    "Skip this step if there are no cities that have humidity > 100%. "
   ]
  },
  {
   "cell_type": "code",
   "execution_count": 7,
   "metadata": {},
   "outputs": [
    {
     "data": {
      "text/plain": [
       "100"
      ]
     },
     "execution_count": 7,
     "metadata": {},
     "output_type": "execute_result"
    }
   ],
   "source": [
    "weather_df[\"Humidity\"].max()"
   ]
  },
  {
   "cell_type": "code",
   "execution_count": 8,
   "metadata": {},
   "outputs": [
    {
     "data": {
      "text/html": [
       "<div>\n",
       "<style scoped>\n",
       "    .dataframe tbody tr th:only-of-type {\n",
       "        vertical-align: middle;\n",
       "    }\n",
       "\n",
       "    .dataframe tbody tr th {\n",
       "        vertical-align: top;\n",
       "    }\n",
       "\n",
       "    .dataframe thead th {\n",
       "        text-align: right;\n",
       "    }\n",
       "</style>\n",
       "<table border=\"1\" class=\"dataframe\">\n",
       "  <thead>\n",
       "    <tr style=\"text-align: right;\">\n",
       "      <th></th>\n",
       "      <th>City</th>\n",
       "      <th>Country</th>\n",
       "      <th>Date</th>\n",
       "      <th>Latitude</th>\n",
       "      <th>Longitude</th>\n",
       "      <th>Max Temperature</th>\n",
       "      <th>Humidity</th>\n",
       "      <th>Cloudiness</th>\n",
       "      <th>Wind Speed</th>\n",
       "    </tr>\n",
       "  </thead>\n",
       "  <tbody>\n",
       "  </tbody>\n",
       "</table>\n",
       "</div>"
      ],
      "text/plain": [
       "Empty DataFrame\n",
       "Columns: [City, Country, Date, Latitude, Longitude, Max Temperature, Humidity, Cloudiness, Wind Speed]\n",
       "Index: []"
      ]
     },
     "execution_count": 8,
     "metadata": {},
     "output_type": "execute_result"
    }
   ],
   "source": [
    "#  Get the indices of cities that have humidity over 100%.\n",
    "(weather_df[weather_df['Humidity'] > 100])"
   ]
  },
  {
   "cell_type": "code",
   "execution_count": 9,
   "metadata": {},
   "outputs": [],
   "source": [
    "# Make a new DataFrame equal to the city data to drop all humidity outliers by index.\n",
    "# Passing \"inplace=False\" will make a copy of the city_data DataFrame, which we call \"clean_city_data\".\n"
   ]
  },
  {
   "cell_type": "code",
   "execution_count": null,
   "metadata": {},
   "outputs": [],
   "source": [
    "\n"
   ]
  },
  {
   "cell_type": "markdown",
   "metadata": {},
   "source": [
    "## Plotting the Data\n",
    "* Use proper labeling of the plots using plot titles (including date of analysis) and axes labels.\n",
    "* Save the plotted figures as .pngs."
   ]
  },
  {
   "cell_type": "markdown",
   "metadata": {},
   "source": [
    "## Latitude vs. Temperature Plot"
   ]
  },
  {
   "cell_type": "code",
   "execution_count": 10,
   "metadata": {
    "scrolled": true
   },
   "outputs": [
    {
     "data": {
      "image/png": "[encoded data removed]",
      "text/plain": [
       "<Figure size 432x288 with 1 Axes>"
      ]
     },
     "metadata": {
      "needs_background": "light"
     },
     "output_type": "display_data"
    }
   ],
   "source": [
    "plt.scatter(weather_df[\"Latitude\"],weather_df[\"Max Temperature\"])\n",
    "plt.title(\"Latitude vs. Temperature Plot\")\n",
    "plt.xlabel(\"Latitude\")\n",
    "plt.ylabel(\"Temperature Plot\")\n",
    "plt.show()\n",
    "\n",
    "#As latitude moves further away from 0 temperature drops. Thus the further north or south someone travel the more likely the temperatures will drop. "
   ]
  },
  {
   "cell_type": "markdown",
   "metadata": {},
   "source": [
    "## Latitude vs. Humidity Plot"
   ]
  },
  {
   "cell_type": "code",
   "execution_count": 11,
   "metadata": {},
   "outputs": [
    {
     "data": {
      "image/png": "[encoded data removed]",
      "text/plain": [
       "<Figure size 432x288 with 1 Axes>"
      ]
     },
     "metadata": {
      "needs_background": "light"
     },
     "output_type": "display_data"
    }
   ],
   "source": [
    "plt.scatter(weather_df[\"Latitude\"],weather_df[\"Humidity\"])\n",
    "plt.title(\"Latitude vs. Temperature Plot\")\n",
    "plt.xlabel(\"Latitude\")\n",
    "plt.ylabel(\"Temperature\")\n",
    "plt.show()\n",
    "\n",
    "#Temperature around the equator tends to hover around 75 to 100 degrees. While Temprature north and south of the equator flactuates more. \n"
   ]
  },
  {
   "cell_type": "markdown",
   "metadata": {},
   "source": [
    "## Latitude vs. Cloudiness Plot"
   ]
  },
  {
   "cell_type": "code",
   "execution_count": 12,
   "metadata": {},
   "outputs": [
    {
     "data": {
      "image/png": "[encoded data removed]",
      "text/plain": [
       "<Figure size 432x288 with 1 Axes>"
      ]
     },
     "metadata": {
      "needs_background": "light"
     },
     "output_type": "display_data"
    }
   ],
   "source": [
    "plt.scatter(weather_df[\"Latitude\"],weather_df[\"Cloudiness\"])\n",
    "plt.title(\"Latitude vs. Cloudiness Plot\")\n",
    "plt.xlabel(\"Latitude\")\n",
    "plt.ylabel(\"Cloudiness\")\n",
    "plt.show()\n",
    "\n",
    "#The data on cloudiness seems entirely random. May not have a correlation with latitude "
   ]
  },
  {
   "cell_type": "markdown",
   "metadata": {},
   "source": [
    "## Latitude vs. Wind Speed Plot"
   ]
  },
  {
   "cell_type": "code",
   "execution_count": 13,
   "metadata": {},
   "outputs": [
    {
     "data": {
      "image/png": "[encoded data removed]",
      "text/plain": [
       "<Figure size 432x288 with 1 Axes>"
      ]
     },
     "metadata": {
      "needs_background": "light"
     },
     "output_type": "display_data"
    }
   ],
   "source": [
    "plt.scatter(weather_df[\"Latitude\"],weather_df[\"Wind Speed\"])\n",
    "plt.title(\"Latitude vs. Wind Speed Plot\")\n",
    "plt.xlabel(\"Latitude\")\n",
    "plt.ylabel(\"Wind Speed\")\n",
    "plt.show()\n",
    "\n",
    "#wind speed seems to stay mostly below 15 mph but there is not enough evidence to corrolate it with latitude. "
   ]
  },
  {
   "cell_type": "markdown",
   "metadata": {},
   "source": [
    "## Linear Regression"
   ]
  },
  {
   "cell_type": "code",
   "execution_count": 14,
   "metadata": {},
   "outputs": [
    {
     "data": {
      "text/html": [
       "<div>\n",
       "<style scoped>\n",
       "    .dataframe tbody tr th:only-of-type {\n",
       "        vertical-align: middle;\n",
       "    }\n",
       "\n",
       "    .dataframe tbody tr th {\n",
       "        vertical-align: top;\n",
       "    }\n",
       "\n",
       "    .dataframe thead th {\n",
       "        text-align: right;\n",
       "    }\n",
       "</style>\n",
       "<table border=\"1\" class=\"dataframe\">\n",
       "  <thead>\n",
       "    <tr style=\"text-align: right;\">\n",
       "      <th></th>\n",
       "      <th>City</th>\n",
       "      <th>Country</th>\n",
       "      <th>Date</th>\n",
       "      <th>Latitude</th>\n",
       "      <th>Longitude</th>\n",
       "      <th>Max Temperature</th>\n",
       "      <th>Humidity</th>\n",
       "      <th>Cloudiness</th>\n",
       "      <th>Wind Speed</th>\n",
       "    </tr>\n",
       "  </thead>\n",
       "  <tbody>\n",
       "    <tr>\n",
       "      <th>0</th>\n",
       "      <td>Vaini</td>\n",
       "      <td>TO</td>\n",
       "      <td>1665455905</td>\n",
       "      <td>-21.2000</td>\n",
       "      <td>-175.2000</td>\n",
       "      <td>78.96</td>\n",
       "      <td>69</td>\n",
       "      <td>40</td>\n",
       "      <td>25.32</td>\n",
       "    </tr>\n",
       "    <tr>\n",
       "      <th>2</th>\n",
       "      <td>Mataura</td>\n",
       "      <td>NZ</td>\n",
       "      <td>1665456159</td>\n",
       "      <td>-46.1927</td>\n",
       "      <td>168.8643</td>\n",
       "      <td>52.03</td>\n",
       "      <td>51</td>\n",
       "      <td>98</td>\n",
       "      <td>8.08</td>\n",
       "    </tr>\n",
       "    <tr>\n",
       "      <th>3</th>\n",
       "      <td>Port Alfred</td>\n",
       "      <td>ZA</td>\n",
       "      <td>1665456160</td>\n",
       "      <td>-33.5906</td>\n",
       "      <td>26.8910</td>\n",
       "      <td>73.18</td>\n",
       "      <td>72</td>\n",
       "      <td>98</td>\n",
       "      <td>1.01</td>\n",
       "    </tr>\n",
       "    <tr>\n",
       "      <th>5</th>\n",
       "      <td>Marquard</td>\n",
       "      <td>ZA</td>\n",
       "      <td>1665456160</td>\n",
       "      <td>-28.6645</td>\n",
       "      <td>27.4305</td>\n",
       "      <td>64.96</td>\n",
       "      <td>49</td>\n",
       "      <td>100</td>\n",
       "      <td>13.00</td>\n",
       "    </tr>\n",
       "    <tr>\n",
       "      <th>7</th>\n",
       "      <td>Saint-Pierre</td>\n",
       "      <td>RE</td>\n",
       "      <td>1665456161</td>\n",
       "      <td>-21.3393</td>\n",
       "      <td>55.4781</td>\n",
       "      <td>67.68</td>\n",
       "      <td>68</td>\n",
       "      <td>75</td>\n",
       "      <td>4.61</td>\n",
       "    </tr>\n",
       "  </tbody>\n",
       "</table>\n",
       "</div>"
      ],
      "text/plain": [
       "           City Country        Date  Latitude  Longitude  Max Temperature  \\\n",
       "0         Vaini      TO  1665455905  -21.2000  -175.2000            78.96   \n",
       "2       Mataura      NZ  1665456159  -46.1927   168.8643            52.03   \n",
       "3   Port Alfred      ZA  1665456160  -33.5906    26.8910            73.18   \n",
       "5      Marquard      ZA  1665456160  -28.6645    27.4305            64.96   \n",
       "7  Saint-Pierre      RE  1665456161  -21.3393    55.4781            67.68   \n",
       "\n",
       "   Humidity  Cloudiness  Wind Speed  \n",
       "0        69          40       25.32  \n",
       "2        51          98        8.08  \n",
       "3        72          98        1.01  \n",
       "5        49         100       13.00  \n",
       "7        68          75        4.61  "
      ]
     },
     "execution_count": 14,
     "metadata": {},
     "output_type": "execute_result"
    }
   ],
   "source": [
    "#Split data between Northern and southern Hemisphere\n",
    "Northern_Hemisphere = (weather_df[weather_df[\"Latitude\"] > 0])\n",
    "Northern_Hemisphere.head()\n",
    "\n",
    "Southern_Hemisphere = (weather_df[weather_df[\"Latitude\"] < 0])\n",
    "Southern_Hemisphere.head()\n",
    "\n"
   ]
  },
  {
   "cell_type": "markdown",
   "metadata": {},
   "source": [
    "####  Northern Hemisphere - Max Temp vs. Latitude Linear Regression"
   ]
  },
  {
   "cell_type": "code",
   "execution_count": 15,
   "metadata": {},
   "outputs": [
    {
     "data": {
      "image/png": "[encoded data removed]",
      "text/plain": [
       "<Figure size 432x288 with 1 Axes>"
      ]
     },
     "metadata": {
      "needs_background": "light"
     },
     "output_type": "display_data"
    }
   ],
   "source": [
    "(slope, intercept, rvalue, pvalue, std)= linregress(Northern_Hemisphere[\"Max Temperature\"], Northern_Hemisphere[\"Latitude\"])\n",
    "\n",
    "regression_line = (slope * Northern_Hemisphere[\"Max Temperature\"] + intercept)\n",
    "\n",
    "plt.scatter(Northern_Hemisphere[\"Max Temperature\"],Northern_Hemisphere[\"Latitude\"])\n",
    "plt.plot(Northern_Hemisphere[\"Max Temperature\"],regression_line,color=\"black\")\n",
    "plt.title(\"Northern Hemisphere - Max Temp vs. Latitude \")\n",
    "plt.xlabel(\"Max Temperature\")\n",
    "plt.ylabel(\"Latitude\")\n",
    "plt.show()\n",
    "\n",
    "#it apears that there is a relationship between max temp and latitude. As latitde decreases to the equator temprature increase. "
   ]
  },
  {
   "cell_type": "markdown",
   "metadata": {},
   "source": [
    "####  Southern Hemisphere - Max Temp vs. Latitude Linear Regression"
   ]
  },
  {
   "cell_type": "code",
   "execution_count": 16,
   "metadata": {},
   "outputs": [
    {
     "data": {
      "image/png": "[encoded data removed]",
      "text/plain": [
       "<Figure size 432x288 with 1 Axes>"
      ]
     },
     "metadata": {
      "needs_background": "light"
     },
     "output_type": "display_data"
    }
   ],
   "source": [
    "(slope, intercept, rvalue, pvalue, std)= linregress(Southern_Hemisphere[\"Max Temperature\"], Southern_Hemisphere[\"Latitude\"])\n",
    "\n",
    "regression_line = (slope * Southern_Hemisphere[\"Max Temperature\"] + intercept)\n",
    "\n",
    "plt.scatter(Southern_Hemisphere[\"Max Temperature\"],Southern_Hemisphere[\"Latitude\"])\n",
    "plt.plot(Southern_Hemisphere[\"Max Temperature\"],regression_line,color=\"black\")\n",
    "plt.title(\"Southern Hemisphere - Max Temp vs. Latitude \")\n",
    "plt.xlabel(\"Max Temperature\")\n",
    "plt.ylabel(\"Latitude\")\n",
    "plt.show()\n",
    "#it apears that there is a relationship between max temp and latitude. As latitde increases to the equator temprature increase. "
   ]
  },
  {
   "cell_type": "markdown",
   "metadata": {},
   "source": [
    "####  Northern Hemisphere - Humidity (%) vs. Latitude Linear Regression"
   ]
  },
  {
   "cell_type": "code",
   "execution_count": 17,
   "metadata": {},
   "outputs": [
    {
     "data": {
      "image/png": "[encoded data removed]",
      "text/plain": [
       "<Figure size 432x288 with 1 Axes>"
      ]
     },
     "metadata": {
      "needs_background": "light"
     },
     "output_type": "display_data"
    }
   ],
   "source": [
    "(slope, intercept, rvalue, pvalue, std)= linregress(Northern_Hemisphere[\"Humidity\"], Northern_Hemisphere[\"Latitude\"])\n",
    "\n",
    "regression_line = (slope * Northern_Hemisphere[\"Humidity\"] + intercept)\n",
    "\n",
    "plt.scatter(Northern_Hemisphere[\"Humidity\"],Northern_Hemisphere[\"Latitude\"])\n",
    "plt.plot(Northern_Hemisphere[\"Humidity\"],regression_line,color=\"black\")\n",
    "plt.title(\"Northern Hemisphere - Humidity (%) vs. Latitude\")\n",
    "plt.xlabel(\"Humidity\")\n",
    "plt.ylabel(\"Latitude\")\n",
    "plt.show()\n",
    "\n",
    "#in the Norther Hemisphere there is little corrolation between humidity and latitude."
   ]
  },
  {
   "cell_type": "markdown",
   "metadata": {},
   "source": [
    "####  Southern Hemisphere - Humidity (%) vs. Latitude Linear Regression"
   ]
  },
  {
   "cell_type": "code",
   "execution_count": 18,
   "metadata": {},
   "outputs": [
    {
     "data": {
      "image/png": "[encoded data removed]",
      "text/plain": [
       "<Figure size 432x288 with 1 Axes>"
      ]
     },
     "metadata": {
      "needs_background": "light"
     },
     "output_type": "display_data"
    }
   ],
   "source": [
    "(slope, intercept, rvalue, pvalue, std)= linregress(Southern_Hemisphere[\"Humidity\"], Southern_Hemisphere[\"Latitude\"])\n",
    "\n",
    "regression_line = (slope * Southern_Hemisphere[\"Humidity\"] + intercept)\n",
    "\n",
    "plt.scatter(Southern_Hemisphere[\"Humidity\"],Southern_Hemisphere[\"Latitude\"])\n",
    "plt.plot(Southern_Hemisphere[\"Humidity\"],regression_line,color=\"black\")\n",
    "plt.title(\"Southern Hemisphere - Humidity (%) vs. Latitude\")\n",
    "plt.xlabel(\"Humidity\")\n",
    "plt.ylabel(\"Latitude\")\n",
    "plt.show()\n",
    "\n",
    "#in the Southern Hemisphere there is little corrolation between humidity and latitude."
   ]
  },
  {
   "cell_type": "markdown",
   "metadata": {},
   "source": [
    "####  Northern Hemisphere - Cloudiness (%) vs. Latitude Linear Regression"
   ]
  },
  {
   "cell_type": "code",
   "execution_count": 19,
   "metadata": {},
   "outputs": [
    {
     "data": {
      "image/png": "[encoded data removed]",
      "text/plain": [
       "<Figure size 432x288 with 1 Axes>"
      ]
     },
     "metadata": {
      "needs_background": "light"
     },
     "output_type": "display_data"
    }
   ],
   "source": [
    "(slope, intercept, rvalue, pvalue, stderr)= linregress(Northern_Hemisphere[\"Cloudiness\"], Northern_Hemisphere[\"Latitude\"])\n",
    "\n",
    "regression_line = (slope * Northern_Hemisphere[\"Cloudiness\"] + intercept)\n",
    "\n",
    "plt.scatter(Northern_Hemisphere[\"Cloudiness\"],Northern_Hemisphere[\"Latitude\"])\n",
    "plt.plot(Northern_Hemisphere[\"Cloudiness\"],regression_line,color=\"black\")\n",
    "plt.title(\"Northern Hemisphere - Cloudiness (%) vs. Latitude\")\n",
    "plt.xlabel(\"Humidity\")\n",
    "plt.ylabel(\"Latitude\")\n",
    "plt.show()\n",
    "\n",
    "#in the Norther Hemisphere there is little corrolation between cloudiness and latitude."
   ]
  },
  {
   "cell_type": "markdown",
   "metadata": {},
   "source": [
    "####  Southern Hemisphere - Cloudiness (%) vs. Latitude Linear Regression"
   ]
  },
  {
   "cell_type": "code",
   "execution_count": 20,
   "metadata": {},
   "outputs": [
    {
     "data": {
      "image/png": "[encoded data removed]",
      "text/plain": [
       "<Figure size 432x288 with 1 Axes>"
      ]
     },
     "metadata": {
      "needs_background": "light"
     },
     "output_type": "display_data"
    }
   ],
   "source": [
    "(slope, intercept, rvalue, pvalue, stderr)= linregress(Southern_Hemisphere[\"Cloudiness\"], Southern_Hemisphere[\"Latitude\"])\n",
    "\n",
    "regression_line = (slope * Southern_Hemisphere[\"Cloudiness\"] + intercept)\n",
    "\n",
    "plt.scatter(Southern_Hemisphere[\"Cloudiness\"],Southern_Hemisphere[\"Latitude\"])\n",
    "plt.plot(Southern_Hemisphere[\"Cloudiness\"],regression_line,color=\"black\")\n",
    "plt.title(\"Southern Hemisphere - Cloudiness (%) vs. Latitude\")\n",
    "plt.xlabel(\"Humidity\")\n",
    "plt.ylabel(\"Latitude\")\n",
    "plt.show()\n",
    "\n",
    "#in the Southern Hemisphere there is little corrolation between cloudiness and latitude."
   ]
  },
  {
   "cell_type": "markdown",
   "metadata": {},
   "source": [
    "####  Northern Hemisphere - Wind Speed (mph) vs. Latitude Linear Regression"
   ]
  },
  {
   "cell_type": "code",
   "execution_count": 21,
   "metadata": {},
   "outputs": [
    {
     "data": {
      "image/png": "[encoded data removed]",
      "text/plain": [
       "<Figure size 432x288 with 1 Axes>"
      ]
     },
     "metadata": {
      "needs_background": "light"
     },
     "output_type": "display_data"
    }
   ],
   "source": [
    "(slope, intercept, rvalue, pvalue, stderr)= linregress(Northern_Hemisphere[\"Wind Speed\"], Northern_Hemisphere[\"Latitude\"])\n",
    "\n",
    "regression_line = (slope * Northern_Hemisphere[\"Wind Speed\"] + intercept)\n",
    "\n",
    "plt.scatter(Northern_Hemisphere[\"Wind Speed\"],Northern_Hemisphere[\"Latitude\"])\n",
    "plt.plot(Northern_Hemisphere[\"Wind Speed\"],regression_line,color=\"black\")\n",
    "plt.title(\"Northern Hemisphere - Wind Speed (mph) vs. Latitude\")\n",
    "plt.xlabel(\"Wind Speed (mph)\")\n",
    "plt.ylabel(\"Latitude\")\n",
    "plt.show()\n",
    "\n",
    "#in the Norther Hemisphere there is corrolation between windspeed and latitude. Though these may be caused by outliers. "
   ]
  },
  {
   "cell_type": "markdown",
   "metadata": {},
   "source": [
    "####  Southern Hemisphere - Wind Speed (mph) vs. Latitude Linear Regression"
   ]
  },
  {
   "cell_type": "code",
   "execution_count": 22,
   "metadata": {},
   "outputs": [
    {
     "data": {
      "image/png": "[encoded data removed]",
      "text/plain": [
       "<Figure size 432x288 with 1 Axes>"
      ]
     },
     "metadata": {
      "needs_background": "light"
     },
     "output_type": "display_data"
    }
   ],
   "source": [
    "(slope, intercept, rvalue, pvalue, stderr)= linregress(Southern_Hemisphere[\"Wind Speed\"], Southern_Hemisphere[\"Latitude\"])\n",
    "\n",
    "regression_line = (slope * Southern_Hemisphere[\"Wind Speed\"] + intercept)\n",
    "\n",
    "plt.scatter(Southern_Hemisphere[\"Wind Speed\"],Southern_Hemisphere[\"Latitude\"])\n",
    "plt.plot(Southern_Hemisphere[\"Wind Speed\"],regression_line,color=\"black\")\n",
    "plt.title(\"Southern Hemisphere - Wind Speed (mph) vs. Latitude\")\n",
    "plt.xlabel(\"Wind Speed (mph)\")\n",
    "plt.ylabel(\"Latitude\")\n",
    "plt.show()\n",
    "\n",
    "#In the Souther Hemisphere there is corrolation between windspeed and latitude. Though these may be caused by outliers. "
   ]
  }
 ],
 "metadata": {
  "anaconda-cloud": {},
  "kernel_info": {
   "name": "python3"
  },
  "kernelspec": {
   "display_name": "Python 3 (ipykernel)",
   "language": "python",
   "name": "python3"
  },
  "language_info": {
   "codemirror_mode": {
    "name": "ipython",
    "version": 3
   },
   "file_extension": ".py",
   "mimetype": "text/x-python",
   "name": "python",
   "nbconvert_exporter": "python",
   "pygments_lexer": "ipython3",
   "version": "3.8.13"
  },
  "latex_envs": {
   "LaTeX_envs_menu_present": true,
   "autoclose": false,
   "autocomplete": true,
   "bibliofile": "biblio.bib",
   "cite_by": "apalike",
   "current_citInitial": 1,
   "eqLabelWithNumbers": true,
   "eqNumInitial": 1,
   "hotkeys": {
    "equation": "Ctrl-E",
    "itemize": "Ctrl-I"
   },
   "labels_anchors": false,
   "latex_user_defs": false,
   "report_style_numbering": false,
   "user_envs_cfg": false
  },
  "nteract": {
   "version": "0.12.3"
  }
 },
 "nbformat": 4,
 "nbformat_minor": 4
}

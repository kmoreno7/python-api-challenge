{
 "cells": [
  {
   "cell_type": "markdown",
   "metadata": {},
   "source": [
    "# VacationPy\n",
    "----\n",
    "\n",
    "#### Note\n",
    "* Keep an eye on your API usage. Use https://developers.google.com/maps/reporting/gmp-reporting as reference for how to monitor your usage and billing.\n",
    "\n",
    "* Instructions have been included for each segment. You do not have to follow them exactly, but they are included to help you think through the steps."
   ]
  },
  {
   "cell_type": "code",
   "execution_count": 1,
   "metadata": {},
   "outputs": [],
   "source": [
    "# Dependencies and Setup\n",
    "import matplotlib.pyplot as plt\n",
    "import pandas as pd\n",
    "import numpy as np\n",
    "import requests\n",
    "import gmaps\n",
    "import os\n",
    "\n",
    "# Import API key\n",
    "from api_keys import g_key"
   ]
  },
  {
   "cell_type": "markdown",
   "metadata": {},
   "source": [
    "### Store Part I results into DataFrame\n",
    "* Load the csv exported in Part I to a DataFrame"
   ]
  },
  {
   "cell_type": "code",
   "execution_count": 2,
   "metadata": {},
   "outputs": [
    {
     "name": "stdout",
     "output_type": "stream",
     "text": [
      "     Unnamed: 0            City Country        Date  Latitude  Longitude  \\\n",
      "0             0           Vaini      TO  1665455905  -21.2000  -175.2000   \n",
      "1             1  Ribeira Grande      PT  1665456159   38.5167   -28.7000   \n",
      "2             2         Mataura      NZ  1665456159  -46.1927   168.8643   \n",
      "3             3     Port Alfred      ZA  1665456160  -33.5906    26.8910   \n",
      "4             4   San Cristobal      VE  1665455874    7.7669   -72.2250   \n",
      "..          ...             ...     ...         ...       ...        ...   \n",
      "549         549         The Pas      CA  1665456308   53.8251  -101.2541   \n",
      "550         550             Lae      PG  1665456366   -6.7221   146.9847   \n",
      "551         551          Bentiu      SS  1665456366    9.2333    29.8333   \n",
      "552         552         Kismayo      SO  1665456367   -0.3582    42.5454   \n",
      "553         553     Badiraguato      MX  1665456367   25.3667  -107.5167   \n",
      "\n",
      "     Max Temperature  Humidity  Cloudiness  Wind Speed  \n",
      "0              78.96        69          40       25.32  \n",
      "1              68.77        88           7        1.99  \n",
      "2              52.03        51          98        8.08  \n",
      "3              73.18        72          98        1.01  \n",
      "4              71.78        92          97        2.33  \n",
      "..               ...       ...         ...         ...  \n",
      "549            60.82        41           0        8.05  \n",
      "550            90.27        75         100        3.15  \n",
      "551            68.68        90           3        2.17  \n",
      "552            76.73        78          21       15.12  \n",
      "553            76.71        64           0        4.12  \n",
      "\n",
      "[554 rows x 10 columns]\n"
     ]
    }
   ],
   "source": [
    "df = \"weather_df.csv\"\n",
    "weather_df = pd.read_csv(df)\n",
    "print(weather_df)\n"
   ]
  },
  {
   "cell_type": "markdown",
   "metadata": {},
   "source": [
    "### Humidity Heatmap\n",
    "* Configure gmaps.\n",
    "* Use the Lat and Lng as locations and Humidity as the weight.\n",
    "* Add Heatmap layer to map."
   ]
  },
  {
   "cell_type": "code",
   "execution_count": 3,
   "metadata": {},
   "outputs": [],
   "source": [
    "gmaps.configure(api_key=g_key)"
   ]
  },
  {
   "cell_type": "code",
   "execution_count": 4,
   "metadata": {},
   "outputs": [
    {
     "data": {
      "application/vnd.jupyter.widget-view+json": {
       "model_id": "2c2a2d5d7c6e461eb72b326b8a290b45",
       "version_major": 2,
       "version_minor": 0
      },
      "text/plain": [
       "Figure(layout=FigureLayout(height='420px'))"
      ]
     },
     "metadata": {},
     "output_type": "display_data"
    }
   ],
   "source": [
    "locations = weather_df[['Latitude','Longitude']]\n",
    "weights = weather_df['Humidity']\n",
    "fig = gmaps.figure()\n",
    "fig.add_layer(gmaps.heatmap_layer(locations, weights=weights))\n",
    "fig\n"
   ]
  },
  {
   "cell_type": "markdown",
   "metadata": {},
   "source": [
    "### Create new DataFrame fitting weather criteria\n",
    "* Narrow down the cities to fit weather conditions.\n",
    "* Drop any rows will null values."
   ]
  },
  {
   "cell_type": "code",
   "execution_count": 7,
   "metadata": {},
   "outputs": [
    {
     "data": {
      "text/html": [
       "<div>\n",
       "<style scoped>\n",
       "    .dataframe tbody tr th:only-of-type {\n",
       "        vertical-align: middle;\n",
       "    }\n",
       "\n",
       "    .dataframe tbody tr th {\n",
       "        vertical-align: top;\n",
       "    }\n",
       "\n",
       "    .dataframe thead th {\n",
       "        text-align: right;\n",
       "    }\n",
       "</style>\n",
       "<table border=\"1\" class=\"dataframe\">\n",
       "  <thead>\n",
       "    <tr style=\"text-align: right;\">\n",
       "      <th></th>\n",
       "      <th>Unnamed: 0</th>\n",
       "      <th>City</th>\n",
       "      <th>Country</th>\n",
       "      <th>Date</th>\n",
       "      <th>Latitude</th>\n",
       "      <th>Longitude</th>\n",
       "      <th>Max Temperature</th>\n",
       "      <th>Humidity</th>\n",
       "      <th>Cloudiness</th>\n",
       "      <th>Wind Speed</th>\n",
       "    </tr>\n",
       "  </thead>\n",
       "  <tbody>\n",
       "    <tr>\n",
       "      <th>3</th>\n",
       "      <td>3</td>\n",
       "      <td>Port Alfred</td>\n",
       "      <td>ZA</td>\n",
       "      <td>1665456160</td>\n",
       "      <td>-33.5906</td>\n",
       "      <td>26.8910</td>\n",
       "      <td>73.18</td>\n",
       "      <td>72</td>\n",
       "      <td>98</td>\n",
       "      <td>1.01</td>\n",
       "    </tr>\n",
       "    <tr>\n",
       "      <th>4</th>\n",
       "      <td>4</td>\n",
       "      <td>San Cristobal</td>\n",
       "      <td>VE</td>\n",
       "      <td>1665455874</td>\n",
       "      <td>7.7669</td>\n",
       "      <td>-72.2250</td>\n",
       "      <td>71.78</td>\n",
       "      <td>92</td>\n",
       "      <td>97</td>\n",
       "      <td>2.33</td>\n",
       "    </tr>\n",
       "    <tr>\n",
       "      <th>13</th>\n",
       "      <td>13</td>\n",
       "      <td>Kannur</td>\n",
       "      <td>IN</td>\n",
       "      <td>1665456163</td>\n",
       "      <td>11.8675</td>\n",
       "      <td>75.3576</td>\n",
       "      <td>79.14</td>\n",
       "      <td>79</td>\n",
       "      <td>100</td>\n",
       "      <td>2.59</td>\n",
       "    </tr>\n",
       "    <tr>\n",
       "      <th>17</th>\n",
       "      <td>17</td>\n",
       "      <td>Vila Franca do Campo</td>\n",
       "      <td>PT</td>\n",
       "      <td>1665456164</td>\n",
       "      <td>37.7167</td>\n",
       "      <td>-25.4333</td>\n",
       "      <td>72.19</td>\n",
       "      <td>89</td>\n",
       "      <td>61</td>\n",
       "      <td>5.50</td>\n",
       "    </tr>\n",
       "    <tr>\n",
       "      <th>18</th>\n",
       "      <td>18</td>\n",
       "      <td>Rikitea</td>\n",
       "      <td>PF</td>\n",
       "      <td>1665456165</td>\n",
       "      <td>-23.1203</td>\n",
       "      <td>-134.9692</td>\n",
       "      <td>71.96</td>\n",
       "      <td>73</td>\n",
       "      <td>65</td>\n",
       "      <td>2.98</td>\n",
       "    </tr>\n",
       "  </tbody>\n",
       "</table>\n",
       "</div>"
      ],
      "text/plain": [
       "    Unnamed: 0                  City Country        Date  Latitude  Longitude  \\\n",
       "3            3           Port Alfred      ZA  1665456160  -33.5906    26.8910   \n",
       "4            4         San Cristobal      VE  1665455874    7.7669   -72.2250   \n",
       "13          13                Kannur      IN  1665456163   11.8675    75.3576   \n",
       "17          17  Vila Franca do Campo      PT  1665456164   37.7167   -25.4333   \n",
       "18          18               Rikitea      PF  1665456165  -23.1203  -134.9692   \n",
       "\n",
       "    Max Temperature  Humidity  Cloudiness  Wind Speed  \n",
       "3             73.18        72          98        1.01  \n",
       "4             71.78        92          97        2.33  \n",
       "13            79.14        79         100        2.59  \n",
       "17            72.19        89          61        5.50  \n",
       "18            71.96        73          65        2.98  "
      ]
     },
     "execution_count": 7,
     "metadata": {},
     "output_type": "execute_result"
    }
   ],
   "source": [
    "#Weather Conditions \n",
    "#A max temperature lower than 80 degrees but higher than 70.\n",
    "#Wind speed less than 10 mph.\n",
    "#Zero cloudiness.\n",
    "#Drop any rows that don't satisfy all three conditions. You want to be sure the weather is ideal.\n",
    "\n",
    "Weather_Conditions = (weather_df[(weather_df[\"Max Temperature\"] <= 80) & (weather_df[\"Max Temperature\"] >= 70) & (weather_df[\"Wind Speed\"] < 10)])\n",
    "Ideal_Weather = Weather_Conditions.dropna()\n",
    "Ideal_Weather.head()"
   ]
  },
  {
   "cell_type": "markdown",
   "metadata": {},
   "source": [
    "### Hotel Map\n",
    "* Store into variable named `hotel_df`.\n",
    "* Add a \"Hotel Name\" column to the DataFrame.\n",
    "* Set parameters to search for hotels with 5000 meters.\n",
    "* Hit the Google Places API for each city's coordinates.\n",
    "* Store the first Hotel result into the DataFrame.\n",
    "* Plot markers on top of the heatmap."
   ]
  },
  {
   "cell_type": "code",
   "execution_count": null,
   "metadata": {},
   "outputs": [],
   "source": []
  },
  {
   "cell_type": "code",
   "execution_count": null,
   "metadata": {},
   "outputs": [],
   "source": []
  },
  {
   "cell_type": "code",
   "execution_count": 6,
   "metadata": {},
   "outputs": [
    {
     "ename": "NameError",
     "evalue": "name 'hotel_df' is not defined",
     "output_type": "error",
     "traceback": [
      "\u001b[0;31m---------------------------------------------------------------------------\u001b[0m",
      "\u001b[0;31mNameError\u001b[0m                                 Traceback (most recent call last)",
      "Input \u001b[0;32mIn [6]\u001b[0m, in \u001b[0;36m<cell line: 13>\u001b[0;34m()\u001b[0m\n\u001b[1;32m      4\u001b[0m info_box_template \u001b[38;5;241m=\u001b[39m \u001b[38;5;124m\"\"\"\u001b[39m\n\u001b[1;32m      5\u001b[0m \u001b[38;5;124m<dl>\u001b[39m\n\u001b[1;32m      6\u001b[0m \u001b[38;5;124m<dt>Name</dt><dd>\u001b[39m\u001b[38;5;124m{\u001b[39m\u001b[38;5;124mHotel Name}</dd>\u001b[39m\n\u001b[0;32m   (...)\u001b[0m\n\u001b[1;32m      9\u001b[0m \u001b[38;5;124m</dl>\u001b[39m\n\u001b[1;32m     10\u001b[0m \u001b[38;5;124m\"\"\"\u001b[39m\n\u001b[1;32m     11\u001b[0m \u001b[38;5;66;03m# Store the DataFrame Row\u001b[39;00m\n\u001b[1;32m     12\u001b[0m \u001b[38;5;66;03m# NOTE: be sure to update with your DataFrame name\u001b[39;00m\n\u001b[0;32m---> 13\u001b[0m hotel_info \u001b[38;5;241m=\u001b[39m [info_box_template\u001b[38;5;241m.\u001b[39mformat(\u001b[38;5;241m*\u001b[39m\u001b[38;5;241m*\u001b[39mrow) \u001b[38;5;28;01mfor\u001b[39;00m index, row \u001b[38;5;129;01min\u001b[39;00m \u001b[43mhotel_df\u001b[49m\u001b[38;5;241m.\u001b[39miterrows()]\n\u001b[1;32m     14\u001b[0m locations \u001b[38;5;241m=\u001b[39m hotel_df[[\u001b[38;5;124m\"\u001b[39m\u001b[38;5;124mLat\u001b[39m\u001b[38;5;124m\"\u001b[39m, \u001b[38;5;124m\"\u001b[39m\u001b[38;5;124mLng\u001b[39m\u001b[38;5;124m\"\u001b[39m]]\n",
      "\u001b[0;31mNameError\u001b[0m: name 'hotel_df' is not defined"
     ]
    }
   ],
   "source": [
    "# NOTE: Do not change any of the code in this cell\n",
    "\n",
    "# Using the template add the hotel marks to the heatmap\n",
    "info_box_template = \"\"\"\n",
    "<dl>\n",
    "<dt>Name</dt><dd>{Hotel Name}</dd>\n",
    "<dt>City</dt><dd>{City}</dd>\n",
    "<dt>Country</dt><dd>{Country}</dd>\n",
    "</dl>\n",
    "\"\"\"\n",
    "# Store the DataFrame Row\n",
    "# NOTE: be sure to update with your DataFrame name\n",
    "hotel_info = [info_box_template.format(**row) for index, row in hotel_df.iterrows()]\n",
    "locations = hotel_df[[\"Lat\", \"Lng\"]]"
   ]
  },
  {
   "cell_type": "code",
   "execution_count": null,
   "metadata": {},
   "outputs": [],
   "source": [
    "# Add marker layer ontop of heat map\n",
    "\n",
    "\n",
    "# Display figure\n"
   ]
  },
  {
   "cell_type": "code",
   "execution_count": null,
   "metadata": {},
   "outputs": [],
   "source": []
  }
 ],
 "metadata": {
  "kernelspec": {
   "display_name": "Python 3 (ipykernel)",
   "language": "python",
   "name": "python3"
  },
  "language_info": {
   "codemirror_mode": {
    "name": "ipython",
    "version": 3
   },
   "file_extension": ".py",
   "mimetype": "text/x-python",
   "name": "python",
   "nbconvert_exporter": "python",
   "pygments_lexer": "ipython3",
   "version": "3.8.13"
  },
  "latex_envs": {
   "LaTeX_envs_menu_present": true,
   "autoclose": false,
   "autocomplete": true,
   "bibliofile": "biblio.bib",
   "cite_by": "apalike",
   "current_citInitial": 1,
   "eqLabelWithNumbers": true,
   "eqNumInitial": 1,
   "hotkeys": {
    "equation": "Ctrl-E",
    "itemize": "Ctrl-I"
   },
   "labels_anchors": false,
   "latex_user_defs": false,
   "report_style_numbering": false,
   "user_envs_cfg": false
  }
 },
 "nbformat": 4,
 "nbformat_minor": 4
}
